{
 "cells": [
  {
   "cell_type": "code",
   "execution_count": 2,
   "id": "f6ad477a",
   "metadata": {},
   "outputs": [
    {
     "name": "stdout",
     "output_type": "stream",
     "text": [
      "'Running JavaScript in Python'\n",
      "Enter value of x: 20\n",
      "Result: x + 3 = 23\n"
     ]
    }
   ],
   "source": [
    "'''\n",
    "Python Program to Run JavaScript in Python\n",
    "'''\n",
    "\n",
    "\"\"\"\n",
    "Equivalent Python code:\n",
    "\n",
    "# Example 1:          \n",
    "print(\"Running JavaScript in Python\")\n",
    "            \n",
    "#Example 2:            \n",
    "def add(x, y):\n",
    "    return x + y\n",
    "    \n",
    "\"\"\"\n",
    "\n",
    "\n",
    "# Import the necessary module!\n",
    "import js2py\n",
    "\n",
    "# Example 1: JavaScript command\n",
    "# Use of eval.js method from js2py module here, \n",
    "# Pass in our js code in it and store it in res1.\n",
    "js_1 = 'console.log(\"Running JavaScript in Python\")'\n",
    "\n",
    "res1 = js2py.eval_js(js_1)\n",
    "\n",
    "# Print the result\n",
    "res1\n",
    "\n",
    "########################################################\n",
    "\n",
    "# Exapmle 2: JavaScript function\n",
    "\n",
    "# Ask for user input\n",
    "x = int(input(\"Enter value of x: \"))\n",
    "js_2 = '''function add(x, y){\n",
    "    return x + y;\n",
    "    }'''\n",
    "# Use of eval.js method from js2py module here, \n",
    "# Pass in our js code in it and store it in res2.    \n",
    "res2 = js2py.eval_js(js_2)\n",
    "\n",
    "# Print the result\n",
    "print(\"Result: x + 3 =\", res2(x,3))"
   ]
  }
 ],
 "metadata": {
  "kernelspec": {
   "display_name": "Python 3 (ipykernel)",
   "language": "python",
   "name": "python3"
  },
  "language_info": {
   "codemirror_mode": {
    "name": "ipython",
    "version": 3
   },
   "file_extension": ".py",
   "mimetype": "text/x-python",
   "name": "python",
   "nbconvert_exporter": "python",
   "pygments_lexer": "ipython3",
   "version": "3.9.12"
  }
 },
 "nbformat": 4,
 "nbformat_minor": 5
}
