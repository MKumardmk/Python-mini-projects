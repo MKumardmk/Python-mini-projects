{
 "cells": [
  {
   "cell_type": "code",
   "execution_count": null,
   "id": "8c64eff3",
   "metadata": {},
   "outputs": [],
   "source": [
    "import speedtest\n",
    "\n",
    "# Create an instance of Speedtest and call it st\n",
    "st = speedtest.Speedtest() \n",
    "\n",
    "# Fetch the download speed\n",
    "# Use of download method to fetch the speed and store in d_st\n",
    "download = st.download()\n",
    "\n",
    "# Fetch the upload speed \n",
    "# Use of upload method to fetch the speed and store in u_st\n",
    "upload = st.upload()\n",
    "\n",
    "# Converting into Mbps\n",
    "download = download/1000000\n",
    "upload = upload/1000000\n",
    "\n",
    "# Display the result\n",
    "print(\"Your ⏬ Download speed is\", round(download, 3), 'Mbps')\n",
    "print(\"Your ⏫ Upload speed is\", round(upload, 3), 'Mbps')\n",
    "\n",
    "# Fetch the ping\n",
    "st.get_servers([])\n",
    "\n",
    "ping = st.results.ping\n",
    "\n",
    "# Display the result\n",
    "print(\"Your Ping is\", ping)"
   ]
  }
 ],
 "metadata": {
  "kernelspec": {
   "display_name": "Python 3 (ipykernel)",
   "language": "python",
   "name": "python3"
  },
  "language_info": {
   "codemirror_mode": {
    "name": "ipython",
    "version": 3
   },
   "file_extension": ".py",
   "mimetype": "text/x-python",
   "name": "python",
   "nbconvert_exporter": "python",
   "pygments_lexer": "ipython3",
   "version": "3.9.12"
  }
 },
 "nbformat": 4,
 "nbformat_minor": 5
}
