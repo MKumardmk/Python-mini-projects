{
 "cells": [
  {
   "cell_type": "code",
   "execution_count": 5,
   "id": "1c888c6f",
   "metadata": {},
   "outputs": [
    {
     "name": "stdout",
     "output_type": "stream",
     "text": [
      "Your Hostname is: LAPTOP-Q9622HTI\n",
      "Your Ip Address is: 192.168.88.177\n",
      "The IP Address of  google.com is: 142.250.182.14\n",
      "The IP Address of  facebook.com is: 157.240.228.35\n"
     ]
    }
   ],
   "source": [
    "import socket as s \n",
    "\n",
    "# Get my hostname\n",
    "my_hostname = s.gethostname()\n",
    "# Display my hostname\n",
    "print(\"Your Hostname is: \" + my_hostname)\n",
    "\n",
    "# Get your systems IP\n",
    "my_ip = s.gethostbyname(my_hostname)\n",
    "# Display IP of your sys \n",
    "print(\"Your Ip Address is: \" + my_ip)\n",
    "\n",
    "# Fetch the  IP\n",
    "ip_google = s.gethostbyname('google.com')\n",
    "ip_facebook = s.gethostbyname('facebook.com')\n",
    "\n",
    "print(\"The IP Address of  google.com is: \"  + ip_google)\n",
    "print(\"The IP Address of  facebook.com is: \"  + ip_facebook)"
   ]
  }
 ],
 "metadata": {
  "kernelspec": {
   "display_name": "Python 3 (ipykernel)",
   "language": "python",
   "name": "python3"
  },
  "language_info": {
   "codemirror_mode": {
    "name": "ipython",
    "version": 3
   },
   "file_extension": ".py",
   "mimetype": "text/x-python",
   "name": "python",
   "nbconvert_exporter": "python",
   "pygments_lexer": "ipython3",
   "version": "3.9.12"
  }
 },
 "nbformat": 4,
 "nbformat_minor": 5
}
